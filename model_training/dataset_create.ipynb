{
 "cells": [
  {
   "cell_type": "code",
   "execution_count": 1,
   "id": "0b5c37e1",
   "metadata": {},
   "outputs": [],
   "source": [
    "import os\n",
    "import json\n",
    "import random\n",
    "import pandas as pd\n",
    "import shutil\n",
    "from pathlib import Path"
   ]
  },
  {
   "cell_type": "code",
   "execution_count": 2,
   "id": "9d208225",
   "metadata": {},
   "outputs": [],
   "source": [
    "!mkdir \"C:/Users/Muyiwa/Desktop/c6project/prepare_data/train_imgs\"\n",
    "!mkdir \"C:/Users/Muyiwa/Desktop/c6project/prepare_data/valid_imgs\"\n",
    "!mkdir \"C:/Users/Muyiwa/Desktop/c6project/prepare_data/train_annots\"\n",
    "!mkdir \"C:/Users/Muyiwa/Desktop/c6project/prepare_data/valid_annots\""
   ]
  },
  {
   "cell_type": "code",
   "execution_count": 3,
   "id": "4d73f970",
   "metadata": {},
   "outputs": [
    {
     "name": "stdout",
     "output_type": "stream",
     "text": [
      "['03c7cea31f.jpg', '06a9c44c55.jpg', '08a181b048.jpg', '08d39d0f4d.jpg', '09cf92f743.jpg']\n",
      "['crow', 'crow', 'crow', 'crow', 'crow']\n",
      "['03c7cea31f.jpg', '06a9c44c55.jpg', '08a181b048.jpg', '08d39d0f4d.jpg', '09cf92f743.jpg', '0c1a3fdd20.jpg', '0cfbaa338f.jpg', '197c1012ba.jpg', '1bded6ea70.jpg', '1d15117ae2.jpg', '1d586ca67a.jpg', '1ecc081899.jpg', '259fec3fd7.jpg', '2c784b864a.jpg', '2caed0387c.jpg', '368b89d59d.jpg', '376fae5ad1.jpg', '378fc98f4f.jpg', '3a29010611.jpg', '3bc2b28fdd.jpg', '3d828ee706.jpg', '3e8d462116.jpg', '484d3397a2.jpg', '495ee7079c.jpg', '4dc054d71e.jpg', '4dcac6039e.jpg', '4df1dc7310.jpg', '511e0951f8.jpg', '5bb0d903fc.jpg', '5bbfea04ef.jpg', '5bd195cf29.jpg', '5e97037a44.jpg', '5feb2100f9.jpg', '607e6e0a8e.jpg', '61ae3e6346.jpg', '666df1dde7.jpg', '685d6f3c1d.jpg', '6d60806c01.jpg', '6d713ab135.jpg', '6dab0b74ff.jpg', '71aad6f53b.jpg', '720bed337f.jpg', '77fefab966.jpg', '79ecd16df8.jpg', '7a171dca50.jpg', '7f995e322c.jpg', '7faf24f23c.jpg', '7fc98f7b2a.jpg', '81def64446.jpg', '83ac6b6c8d.jpg', '83b28a30aa.jpg', '85e5dcd314.jpg', '8a6716039b.jpg', '8b94b5d529.jpg', '94be0c5a37.jpg', '96a3d9dbd7.jpg', '97d6ef43cd.jpg', '98aa731ab3.jpg', '9d1cf4c0cf.jpg', '9d61244f2a.jpg', '00daf2d027.jpg', '01b09ede52.jpg', '02f1073956.jpg', '06bb824f2e.jpg', '08aa329b56.jpg', '0bd1ea561b.jpg', '0bdb84b6c1.jpg', '0d4996fa51.jpg', '0dbaa78bed.jpg', '0eb51dddee.jpg', '0f4d4e7d4d.jpg', '11c94c40e2.jpg', '12c194825c.jpg', '17f5e76801.jpg', '18a7c2ebbf.jpg', '1a9935d664.jpg', '20ba558606.jpg', '24cc413828.jpg', '298e7b4d92.jpg', '2c7998d692.jpg', '2d91322dbb.jpg', '2e08e3520d.jpg', '303fd01f4b.jpg', '30da6b75a0.jpg', '344e57562c.jpg', '3c4d9be7a3.jpg', '3f1f2fc732.jpg', '49be6673a4.jpg', '4c93974631.jpg', '4eb04de4e0.jpg', '4f365b6a6e.jpg', '53cec4730e.jpg', '54bf1d62ed.jpg', '55d7c4d3cd.jpg', '57e3ca4d18.jpg', '58c5ae0e4e.jpg', '5d98d8ba12.jpg', '5fb468afe0.jpg', '60ab3d81cc.jpg', '69c5fe39d4.jpg', '6a534cdb95.jpg', '6e4342b217.jpg', '6e59c0c513.jpg', '6e9e9aac85.jpg', '6fd90b8b1e.jpg', '7db2361a8c.jpg', '7e449c2116.jpg', '7e920f6b9a.jpg', '7f07bfd866.jpg', '86c96c8074.jpg', '8cbd20c75a.jpg', '8fc9559fc1.jpg', '92bbca54fc.jpg', '93b3ac4b48.jpg', '99d257b4ef.jpg', '9a40bbb289.jpg', '9bab02c829.jpg', '9e0ee1af9e.jpg', '9e825a5ad2.jpg', '9fc6cd4fd0.jpg', '10101.jpg', '11411.jpg', '12706.jpg', '12866.jpg', '13271.jpg', '14141.jpg', '14321.jpg', '14441.jpg', '15826.jpg', '15836.jpg', '15866.jpg', '15956.jpg', '16016.jpg', '16396.jpg', '16576.jpg', '16656.jpg', '2141.jpg', '2143.jpg', '2144.jpg', '2145.jpg', '2146.jpg', '2151.jpg', '2153.jpg', '2155.jpg', '2156.jpg', '2157.jpg', '2159.jpg', '2161.jpg', '2162.jpg', '2163.jpg', '2168.jpg', '2169.jpg', '2171.jpg', '2173.jpg', '2174.jpg', '2175.jpg', '2176.jpg', '2177.jpg', '2179.jpg', '2183.jpg', '2185.jpg', '2186.jpg', '2187.jpg', '2189.jpg', '2191.jpg', '2192.jpg', '2193.jpg', '2194.jpg', '2198.jpg', '2199.jpg', '2201.jpg', '2203.jpg', '2204.jpg', '2205.jpg', '2206.jpg', '2207.jpg', '2209.jpg', '2215.jpg', '2216.jpg', '2217.jpg', '2219.jpg', '2220.jpg', '2221.jpg', '2222.jpg', '2223.jpg', '2225.jpg', '2232.jpg', '2233.jpg', '2234.jpg', '2235.jpg', '2236.jpg', '2237.jpg', '2239.jpg', '2240.jpg', '2243.jpg', '2272.jpg', '2285.jpg', '2394.jpg', '2401.jpg', '2427.jpg', '2428.jpg', '2429.jpg', '3121.jpg', '3126.jpg', '3131.jpg', '3451.jpg', '4741.jpg', '7086.jpg', '7091.jpg', '7096.jpg', '7101.jpg', '7106.jpg', '7111.jpg', '7116.jpg', '7121.jpg', '8571.jpg', '8691.jpg', '8811.jpg', '9956.jpg', '9976.jpg', '01c2e571ec.jpg', '03eb1b314b.jpg', '06b52e60de.jpg', '0a00f7a061.jpg', '0cc98fee57.jpg', '0d21db0c78.jpg', '120f65f860.jpg', '151d88cdf9.jpg', '15aa222a2f.jpg', '1a7e08e47c.jpg', '1c222f95f8.jpg', '20a23cf2c7.jpg', '25da4ae00a.jpg', '268e4225b7.jpg', '33eb3e6475.jpg', '356f82abc7.jpg', '35ea12b897.jpg', '3755f95bd5.jpg', '377eb2641c.jpg', '391ce46fdb.jpg', '3a4bd740a0.jpg', '3e1eb0425e.jpg', '3f259a7887.jpg', '3f6cbf9e69.jpg', '42c4c9bf8d.jpg', '4838cd45a9.jpg', '48cec317f8.jpg', '4a36e3634a.jpg', '4a90236fd2.jpg', '4aa7f5ff1d.jpg', '4b038131a9.jpg', '50cd6cea07.jpg', '52b6d8a06b.jpg', '537d446abd.jpg', '53db8925d3.jpg', '550d80120c.jpg', '5c6b9a64d1.jpg', '5eb8847c62.jpg', '62da137ddc.jpg', '62e423553c.jpg', '643e101886.jpg', '657b444fee.jpg', '65b819fb36.jpg', '684fe8ce23.jpg', '68a7630f5c.jpg', '6f50c4d836.jpg', '7abb1944a1.jpg', '7b0499114b.jpg', '8002b47f8b.jpg', '856e826937.jpg', '86a3cfa716.jpg', '86bbba4c3d.jpg', '884a611535.jpg', '8aa3b2afbe.jpg', '8c96f6e9f0.jpg', '9323d918ed.jpg', '94ea667177.jpg', '9a0c6a09df.jpg', '9c9144de63.jpg', '9f1a82530f.jpg', '01fb6bf91f.jpg', '032f237e86.jpg', '03d6b6c8bf.jpg', '058e32cf0a.jpg', '07d37bf39e.jpg', '0b03acbfd4.jpg', '17c688a30f.jpg', '17e943a6ad.jpg', '17f2f8983d.jpg', '1a07e283ec.jpg', '1b5a3fe7b1.jpg', '1bef5cb4c3.jpg', '24a3f072c3.jpg', '25b0e2985c.jpg', '2aaa2b7efd.jpg', '2befa9041b.jpg', '2c2b126785.jpg', '2c31ede4f0.jpg', '2e508b7563.jpg', '2f238b1987.jpg', '31f5cff0e6.jpg', '34f8ac7bde.jpg', '35bc4d9e56.jpg', '37accdd1a9.jpg', '37c3a8a10b.jpg', '3a0e49e38a.jpg', '3b9bcf1c3d.jpg', '3d0a24d326.jpg', '3ec0d9cd53.jpg', '41c92d657d.jpg', '45d1621fdf.jpg', '45ec05463b.jpg', '4c205ff563.jpg', '4d7be7df24.jpg', '4d8e65abc7.jpg', '4e1ca3a33b.jpg', '50bf6c59a0.jpg', '59ea1316c5.jpg', '59fa5cdd5e.jpg', '5c270099da.jpg', '5cbfa5af07.jpg', '5e41b6ffb1.jpg', '5e7bb896c2.jpg', '66f7e8b3dc.jpg', '68a66379c8.jpg', '68bf055b2d.jpg', '69c9829692.jpg', '6a457ae0af.jpg', '6aaaf3a271.jpg', '6d593e1387.jpg', '6e810ab6c8.jpg', '6efa03f4c5.jpg', '7a7dc210a7.jpg', '7bfbf635bc.jpg', '7c9d7ae48d.jpg', '8c0dd58c75.jpg', '8e2f9a013f.jpg', '8f15f4c843.jpg', 'ff10ec6344.jpg', 'ff77ddb6e7.jpg', '00f71ae408.jpg', '043df7708c.jpg', '04bada9c65.jpg', '0c02dadd62.jpg', '0f6ba7d62b.jpg', '0f85e2b66b.jpg', '0fc5ccf675.jpg', '1aeb42b709.jpg', '1af2e45af7.jpg', '1bdca38506.jpg', '1c0f6fc48f.jpg', '1d6eceed78.jpg', '1ea9123d1c.jpg', '1fceda81a2.jpg', '1ff6533b1b.jpg', '22a4e95bf3.jpg', '22a6d697ed.jpg', '2a2c32906f.jpg', '2c2a01f358.jpg', '2d3bddd397.jpg', '2d450c59c0.jpg', '35e8e447e8.jpg', '41ff7250dd.jpg', '42cd5c9da6.jpg', '48b7f32459.jpg', '4c7de300c1.jpg', '4ca3440732.jpg', '4e90e378c3.jpg', '4edec3504d.jpg', '52cb2d1360.jpg', '5b750f7c50.jpg', '5b8729a6de.jpg', '61c54deffe.jpg', '64dd7daca6.jpg', '69f2af374b.jpg', '6a8fb11cb3.jpg', '6b6b0ec80d.jpg', '6df349d8b4.jpg', '6e0af679d5.jpg', '6ec5bd39dc.jpg', '6f53edbc49.jpg', '71b05600f8.jpg', '7a7ddaba18.jpg', '7aa02f59f5.jpg', '7b782e9b11.jpg', '7e0d0cb451.jpg', '7f5cbe8977.jpg', '7fd2e4142d.jpg', '84a03b7770.jpg', '87e45dce1f.jpg', '87ffcd3f38.jpg', '8ad36b6eda.jpg', '8b18295177.jpg', '8b3dd555dd.jpg', '8d8fc9b11a.jpg']\n",
      "['crow', 'crow', 'crow', 'crow', 'crow', 'crow', 'crow', 'crow', 'crow', 'crow', 'crow', 'crow', 'crow', 'crow', 'crow', 'crow', 'crow', 'crow', 'crow', 'crow', 'crow', 'crow', 'crow', 'crow', 'crow', 'crow', 'crow', 'crow', 'crow', 'crow', 'crow', 'crow', 'crow', 'crow', 'crow', 'crow', 'crow', 'crow', 'crow', 'crow', 'crow', 'crow', 'crow', 'crow', 'crow', 'crow', 'crow', 'crow', 'crow', 'crow', 'crow', 'crow', 'crow', 'crow', 'crow', 'crow', 'crow', 'crow', 'crow', 'crow', 'pigeon', 'pigeon', 'pigeon', 'pigeon', 'pigeon', 'pigeon', 'pigeon', 'pigeon', 'pigeon', 'pigeon', 'pigeon', 'pigeon', 'pigeon', 'pigeon', 'pigeon', 'pigeon', 'pigeon', 'pigeon', 'pigeon', 'pigeon', 'pigeon', 'pigeon', 'pigeon', 'pigeon', 'pigeon', 'pigeon', 'pigeon', 'pigeon', 'pigeon', 'pigeon', 'pigeon', 'pigeon', 'pigeon', 'pigeon', 'pigeon', 'pigeon', 'pigeon', 'pigeon', 'pigeon', 'pigeon', 'pigeon', 'pigeon', 'pigeon', 'pigeon', 'pigeon', 'pigeon', 'pigeon', 'pigeon', 'pigeon', 'pigeon', 'pigeon', 'pigeon', 'pigeon', 'pigeon', 'pigeon', 'pigeon', 'pigeon', 'pigeon', 'pigeon', 'pigeon', 'rabbit', 'rabbit', 'rabbit', 'rabbit', 'rabbit', 'rabbit', 'rabbit', 'rabbit', 'rabbit', 'rabbit', 'rabbit', 'rabbit', 'rabbit', 'rabbit', 'rabbit', 'rabbit', 'rabbit', 'rabbit', 'rabbit', 'rabbit', 'rabbit', 'rabbit', 'rabbit', 'rabbit', 'rabbit', 'rabbit', 'rabbit', 'rabbit', 'rabbit', 'rabbit', 'rabbit', 'rabbit', 'rabbit', 'rabbit', 'rabbit', 'rabbit', 'rabbit', 'rabbit', 'rabbit', 'rabbit', 'rabbit', 'rabbit', 'rabbit', 'rabbit', 'rabbit', 'rabbit', 'rabbit', 'rabbit', 'rabbit', 'rabbit', 'rabbit', 'rabbit', 'rabbit', 'rabbit', 'rabbit', 'rabbit', 'rabbit', 'rabbit', 'rabbit', 'rabbit', 'rabbit', 'rabbit', 'rabbit', 'rabbit', 'rabbit', 'rabbit', 'rabbit', 'rabbit', 'rabbit', 'rabbit', 'rabbit', 'rabbit', 'rabbit', 'rabbit', 'rabbit', 'rabbit', 'rabbit', 'rabbit', 'rabbit', 'rabbit', 'rabbit', 'rabbit', 'rabbit', 'rabbit', 'rabbit', 'rabbit', 'rabbit', 'rabbit', 'rabbit', 'rabbit', 'rabbit', 'rabbit', 'rabbit', 'rabbit', 'rabbit', 'rabbit', 'rabbit', 'rabbit', 'rabbit', 'rabbit', 'rat', 'rat', 'rat', 'rat', 'rat', 'rat', 'rat', 'rat', 'rat', 'rat', 'rat', 'rat', 'rat', 'rat', 'rat', 'rat', 'rat', 'rat', 'rat', 'rat', 'rat', 'rat', 'rat', 'rat', 'rat', 'rat', 'rat', 'rat', 'rat', 'rat', 'rat', 'rat', 'rat', 'rat', 'rat', 'rat', 'rat', 'rat', 'rat', 'rat', 'rat', 'rat', 'rat', 'rat', 'rat', 'rat', 'rat', 'rat', 'rat', 'rat', 'rat', 'rat', 'rat', 'rat', 'rat', 'rat', 'rat', 'rat', 'rat', 'rat', 'sparrow', 'sparrow', 'sparrow', 'sparrow', 'sparrow', 'sparrow', 'sparrow', 'sparrow', 'sparrow', 'sparrow', 'sparrow', 'sparrow', 'sparrow', 'sparrow', 'sparrow', 'sparrow', 'sparrow', 'sparrow', 'sparrow', 'sparrow', 'sparrow', 'sparrow', 'sparrow', 'sparrow', 'sparrow', 'sparrow', 'sparrow', 'sparrow', 'sparrow', 'sparrow', 'sparrow', 'sparrow', 'sparrow', 'sparrow', 'sparrow', 'sparrow', 'sparrow', 'sparrow', 'sparrow', 'sparrow', 'sparrow', 'sparrow', 'sparrow', 'sparrow', 'sparrow', 'sparrow', 'sparrow', 'sparrow', 'sparrow', 'sparrow', 'sparrow', 'sparrow', 'sparrow', 'sparrow', 'sparrow', 'sparrow', 'sparrow', 'sparrow', 'sparrow', 'sparrow', 'squirrel', 'squirrel', 'squirrel', 'squirrel', 'squirrel', 'squirrel', 'squirrel', 'squirrel', 'squirrel', 'squirrel', 'squirrel', 'squirrel', 'squirrel', 'squirrel', 'squirrel', 'squirrel', 'squirrel', 'squirrel', 'squirrel', 'squirrel', 'squirrel', 'squirrel', 'squirrel', 'squirrel', 'squirrel', 'squirrel', 'squirrel', 'squirrel', 'squirrel', 'squirrel', 'squirrel', 'squirrel', 'squirrel', 'squirrel', 'squirrel', 'squirrel', 'squirrel', 'squirrel', 'squirrel', 'squirrel', 'squirrel', 'squirrel', 'squirrel', 'squirrel', 'squirrel', 'squirrel', 'squirrel', 'squirrel', 'squirrel', 'squirrel', 'squirrel', 'squirrel', 'squirrel', 'squirrel', 'squirrel']\n"
     ]
    }
   ],
   "source": [
    "images = []\n",
    "classes = []\n",
    "\n",
    "for path, subdirs, files in os.walk(\n",
    "    \"C:/Users/Muyiwa/Desktop/c6project/prepare_data/all_images/\" \n",
    "):\n",
    "    for file in files:\n",
    "        # print(os.path.join(path, name))\n",
    "        if file == \".DS_Store\":\n",
    "            continue\n",
    "        else:\n",
    "            images.append(file)\n",
    "            classes.append(path.split(\"/\")[-1])\n",
    "\n",
    "print(images[:5])\n",
    "print(classes[:5])\n",
    "print(images[:-5])\n",
    "print(classes[:-5])"
   ]
  },
  {
   "cell_type": "code",
   "execution_count": 4,
   "id": "6cc6d86b",
   "metadata": {},
   "outputs": [
    {
     "data": {
      "text/html": [
       "<div>\n",
       "<style scoped>\n",
       "    .dataframe tbody tr th:only-of-type {\n",
       "        vertical-align: middle;\n",
       "    }\n",
       "\n",
       "    .dataframe tbody tr th {\n",
       "        vertical-align: top;\n",
       "    }\n",
       "\n",
       "    .dataframe thead th {\n",
       "        text-align: right;\n",
       "    }\n",
       "</style>\n",
       "<table border=\"1\" class=\"dataframe\">\n",
       "  <thead>\n",
       "    <tr style=\"text-align: right;\">\n",
       "      <th></th>\n",
       "      <th>image</th>\n",
       "      <th>class</th>\n",
       "    </tr>\n",
       "  </thead>\n",
       "  <tbody>\n",
       "    <tr>\n",
       "      <th>0</th>\n",
       "      <td>03c7cea31f.jpg</td>\n",
       "      <td>crow</td>\n",
       "    </tr>\n",
       "    <tr>\n",
       "      <th>1</th>\n",
       "      <td>06a9c44c55.jpg</td>\n",
       "      <td>crow</td>\n",
       "    </tr>\n",
       "    <tr>\n",
       "      <th>2</th>\n",
       "      <td>08a181b048.jpg</td>\n",
       "      <td>crow</td>\n",
       "    </tr>\n",
       "    <tr>\n",
       "      <th>3</th>\n",
       "      <td>08d39d0f4d.jpg</td>\n",
       "      <td>crow</td>\n",
       "    </tr>\n",
       "    <tr>\n",
       "      <th>4</th>\n",
       "      <td>09cf92f743.jpg</td>\n",
       "      <td>crow</td>\n",
       "    </tr>\n",
       "  </tbody>\n",
       "</table>\n",
       "</div>"
      ],
      "text/plain": [
       "            image class\n",
       "0  03c7cea31f.jpg  crow\n",
       "1  06a9c44c55.jpg  crow\n",
       "2  08a181b048.jpg  crow\n",
       "3  08d39d0f4d.jpg  crow\n",
       "4  09cf92f743.jpg  crow"
      ]
     },
     "execution_count": 4,
     "metadata": {},
     "output_type": "execute_result"
    }
   ],
   "source": [
    "gt_df = pd.DataFrame({\"image\": images, \"class\": classes})\n",
    "gt_df.head()"
   ]
  },
  {
   "cell_type": "code",
   "execution_count": 5,
   "id": "45bceb20",
   "metadata": {},
   "outputs": [],
   "source": [
    "# gt_df = pd.read_csv(\n",
    "#     \"prepare_date/img_clf_lst/all_images_gt/clf_labels.csv\", header=None\n",
    "# )\n",
    "# gt_df.columns = [\"image\", \"class\"]\n",
    "# gt_df.head()"
   ]
  },
  {
   "cell_type": "code",
   "execution_count": 6,
   "id": "7ffde883",
   "metadata": {},
   "outputs": [
    {
     "name": "stdout",
     "output_type": "stream",
     "text": [
      "400 280 120\n"
     ]
    }
   ],
   "source": [
    "train_valid_split = 0.7\n",
    "nimages = gt_df[\"image\"].nunique()\n",
    "ntrain = int(train_valid_split * nimages)\n",
    "nvalid = nimages - ntrain\n",
    "print(nimages, ntrain, nvalid)"
   ]
  },
  {
   "cell_type": "code",
   "execution_count": 7,
   "id": "ec6ebf84",
   "metadata": {},
   "outputs": [],
   "source": [
    "# gt_df[\"class\"] = gt_df[\"class\"].apply(lambda x: x[1:-1])\n",
    "# gt_df.head()"
   ]
  },
  {
   "cell_type": "code",
   "execution_count": 13,
   "id": "850284bd",
   "metadata": {},
   "outputs": [
    {
     "data": {
      "text/plain": [
       "{'crow': 0, 'pigeon': 1, 'rabbit': 2, 'rat': 3, 'sparrow': 4, 'squirrel': 5}"
      ]
     },
     "execution_count": 13,
     "metadata": {},
     "output_type": "execute_result"
    }
   ],
   "source": [
    "labels = [\"crow\", \"pigeon\", \"rabbit\", \"rat\", \"sparrow\", \"squirrel\"]\n",
    "labels_map = {k: v for v, k in enumerate(labels)}\n",
    "with open(\"C:/Users/Muyiwa/Desktop/c6project/prepare_data/labels_map.json\", \"w\") as fp:\n",
    "    json.dump(labels_map, fp)\n",
    "labels_map"
   ]
  },
  {
   "cell_type": "code",
   "execution_count": 14,
   "id": "7c15e546",
   "metadata": {},
   "outputs": [
    {
     "data": {
      "text/html": [
       "<div>\n",
       "<style scoped>\n",
       "    .dataframe tbody tr th:only-of-type {\n",
       "        vertical-align: middle;\n",
       "    }\n",
       "\n",
       "    .dataframe tbody tr th {\n",
       "        vertical-align: top;\n",
       "    }\n",
       "\n",
       "    .dataframe thead th {\n",
       "        text-align: right;\n",
       "    }\n",
       "</style>\n",
       "<table border=\"1\" class=\"dataframe\">\n",
       "  <thead>\n",
       "    <tr style=\"text-align: right;\">\n",
       "      <th></th>\n",
       "      <th>image</th>\n",
       "      <th>class</th>\n",
       "      <th>class_id</th>\n",
       "      <th>index</th>\n",
       "    </tr>\n",
       "  </thead>\n",
       "  <tbody>\n",
       "    <tr>\n",
       "      <th>0</th>\n",
       "      <td>50cd6cea07.jpg</td>\n",
       "      <td>rat</td>\n",
       "      <td>3</td>\n",
       "      <td>1</td>\n",
       "    </tr>\n",
       "    <tr>\n",
       "      <th>1</th>\n",
       "      <td>ff77ddb6e7.jpg</td>\n",
       "      <td>sparrow</td>\n",
       "      <td>4</td>\n",
       "      <td>2</td>\n",
       "    </tr>\n",
       "    <tr>\n",
       "      <th>2</th>\n",
       "      <td>08a181b048.jpg</td>\n",
       "      <td>crow</td>\n",
       "      <td>0</td>\n",
       "      <td>3</td>\n",
       "    </tr>\n",
       "    <tr>\n",
       "      <th>3</th>\n",
       "      <td>7106.jpg</td>\n",
       "      <td>rabbit</td>\n",
       "      <td>2</td>\n",
       "      <td>4</td>\n",
       "    </tr>\n",
       "    <tr>\n",
       "      <th>4</th>\n",
       "      <td>8fc9559fc1.jpg</td>\n",
       "      <td>pigeon</td>\n",
       "      <td>1</td>\n",
       "      <td>5</td>\n",
       "    </tr>\n",
       "  </tbody>\n",
       "</table>\n",
       "</div>"
      ],
      "text/plain": [
       "            image    class  class_id  index\n",
       "0  50cd6cea07.jpg      rat         3      1\n",
       "1  ff77ddb6e7.jpg  sparrow         4      2\n",
       "2  08a181b048.jpg     crow         0      3\n",
       "3        7106.jpg   rabbit         2      4\n",
       "4  8fc9559fc1.jpg   pigeon         1      5"
      ]
     },
     "execution_count": 14,
     "metadata": {},
     "output_type": "execute_result"
    }
   ],
   "source": [
    "gt_df[\"class_id\"] = gt_df[\"class\"].map(labels_map)\n",
    "gt_df.head()"
   ]
  },
  {
   "cell_type": "code",
   "execution_count": 15,
   "id": "a45eec7c",
   "metadata": {},
   "outputs": [
    {
     "data": {
      "text/html": [
       "<div>\n",
       "<style scoped>\n",
       "    .dataframe tbody tr th:only-of-type {\n",
       "        vertical-align: middle;\n",
       "    }\n",
       "\n",
       "    .dataframe tbody tr th {\n",
       "        vertical-align: top;\n",
       "    }\n",
       "\n",
       "    .dataframe thead th {\n",
       "        text-align: right;\n",
       "    }\n",
       "</style>\n",
       "<table border=\"1\" class=\"dataframe\">\n",
       "  <thead>\n",
       "    <tr style=\"text-align: right;\">\n",
       "      <th></th>\n",
       "      <th>image</th>\n",
       "      <th>class</th>\n",
       "      <th>class_id</th>\n",
       "      <th>index</th>\n",
       "    </tr>\n",
       "  </thead>\n",
       "  <tbody>\n",
       "    <tr>\n",
       "      <th>0</th>\n",
       "      <td>12c194825c.jpg</td>\n",
       "      <td>pigeon</td>\n",
       "      <td>1</td>\n",
       "      <td>61</td>\n",
       "    </tr>\n",
       "    <tr>\n",
       "      <th>1</th>\n",
       "      <td>0d4996fa51.jpg</td>\n",
       "      <td>pigeon</td>\n",
       "      <td>1</td>\n",
       "      <td>286</td>\n",
       "    </tr>\n",
       "    <tr>\n",
       "      <th>2</th>\n",
       "      <td>48cec317f8.jpg</td>\n",
       "      <td>rat</td>\n",
       "      <td>3</td>\n",
       "      <td>344</td>\n",
       "    </tr>\n",
       "    <tr>\n",
       "      <th>3</th>\n",
       "      <td>ff10ec6344.jpg</td>\n",
       "      <td>sparrow</td>\n",
       "      <td>4</td>\n",
       "      <td>200</td>\n",
       "    </tr>\n",
       "    <tr>\n",
       "      <th>4</th>\n",
       "      <td>0dbaa78bed.jpg</td>\n",
       "      <td>pigeon</td>\n",
       "      <td>1</td>\n",
       "      <td>177</td>\n",
       "    </tr>\n",
       "  </tbody>\n",
       "</table>\n",
       "</div>"
      ],
      "text/plain": [
       "            image    class  class_id  index\n",
       "0  12c194825c.jpg   pigeon         1     61\n",
       "1  0d4996fa51.jpg   pigeon         1    286\n",
       "2  48cec317f8.jpg      rat         3    344\n",
       "3  ff10ec6344.jpg  sparrow         4    200\n",
       "4  0dbaa78bed.jpg   pigeon         1    177"
      ]
     },
     "execution_count": 15,
     "metadata": {},
     "output_type": "execute_result"
    }
   ],
   "source": [
    "gt_df = gt_df.sample(frac=1).reset_index(drop=True)\n",
    "gt_df.head()"
   ]
  },
  {
   "cell_type": "code",
   "execution_count": 16,
   "id": "5148a4c1",
   "metadata": {},
   "outputs": [
    {
     "data": {
      "text/html": [
       "<div>\n",
       "<style scoped>\n",
       "    .dataframe tbody tr th:only-of-type {\n",
       "        vertical-align: middle;\n",
       "    }\n",
       "\n",
       "    .dataframe tbody tr th {\n",
       "        vertical-align: top;\n",
       "    }\n",
       "\n",
       "    .dataframe thead th {\n",
       "        text-align: right;\n",
       "    }\n",
       "</style>\n",
       "<table border=\"1\" class=\"dataframe\">\n",
       "  <thead>\n",
       "    <tr style=\"text-align: right;\">\n",
       "      <th></th>\n",
       "      <th>image</th>\n",
       "      <th>class</th>\n",
       "      <th>class_id</th>\n",
       "      <th>index</th>\n",
       "    </tr>\n",
       "  </thead>\n",
       "  <tbody>\n",
       "    <tr>\n",
       "      <th>0</th>\n",
       "      <td>12c194825c.jpg</td>\n",
       "      <td>pigeon</td>\n",
       "      <td>1</td>\n",
       "      <td>1</td>\n",
       "    </tr>\n",
       "    <tr>\n",
       "      <th>1</th>\n",
       "      <td>0d4996fa51.jpg</td>\n",
       "      <td>pigeon</td>\n",
       "      <td>1</td>\n",
       "      <td>2</td>\n",
       "    </tr>\n",
       "    <tr>\n",
       "      <th>2</th>\n",
       "      <td>48cec317f8.jpg</td>\n",
       "      <td>rat</td>\n",
       "      <td>3</td>\n",
       "      <td>3</td>\n",
       "    </tr>\n",
       "    <tr>\n",
       "      <th>3</th>\n",
       "      <td>ff10ec6344.jpg</td>\n",
       "      <td>sparrow</td>\n",
       "      <td>4</td>\n",
       "      <td>4</td>\n",
       "    </tr>\n",
       "    <tr>\n",
       "      <th>4</th>\n",
       "      <td>0dbaa78bed.jpg</td>\n",
       "      <td>pigeon</td>\n",
       "      <td>1</td>\n",
       "      <td>5</td>\n",
       "    </tr>\n",
       "  </tbody>\n",
       "</table>\n",
       "</div>"
      ],
      "text/plain": [
       "            image    class  class_id  index\n",
       "0  12c194825c.jpg   pigeon         1      1\n",
       "1  0d4996fa51.jpg   pigeon         1      2\n",
       "2  48cec317f8.jpg      rat         3      3\n",
       "3  ff10ec6344.jpg  sparrow         4      4\n",
       "4  0dbaa78bed.jpg   pigeon         1      5"
      ]
     },
     "execution_count": 16,
     "metadata": {},
     "output_type": "execute_result"
    }
   ],
   "source": [
    "gt_df[\"index\"] = gt_df.index + 1\n",
    "gt_df.head()"
   ]
  },
  {
   "cell_type": "code",
   "execution_count": 17,
   "id": "84af2739",
   "metadata": {},
   "outputs": [
    {
     "name": "stdout",
     "output_type": "stream",
     "text": [
      "1\t1\t12c194825c.jpg\n",
      "2\t1\t0d4996fa51.jpg\n",
      "3\t3\t48cec317f8.jpg\n",
      "4\t4\tff10ec6344.jpg\n",
      "5\t1\t0dbaa78bed.jpg\n"
     ]
    }
   ],
   "source": [
    "sel_cols = [\"index\", \"class_id\", \"image\"]\n",
    "gt_df[sel_cols].head(ntrain).to_csv(\n",
    "    \"C:/Users/Muyiwa/Desktop/c6project/prepare_data/train_annots/train.lst\",\n",
    "    sep=\"\\t\",\n",
    "    index=False,\n",
    "    header=False,\n",
    ")\n",
    "!head -n 5 \"C:/Users/Muyiwa/Desktop/c6project/prepare_data/train_annots/train.lst\""
   ]
  },
  {
   "cell_type": "code",
   "execution_count": 18,
   "id": "a7450c34",
   "metadata": {},
   "outputs": [
    {
     "name": "stdout",
     "output_type": "stream",
     "text": [
      "281\t4\t35bc4d9e56.jpg\n",
      "282\t5\t64dd7daca6.jpg\n",
      "283\t2\t2207.jpg\n",
      "284\t2\t2428.jpg\n",
      "285\t3\t15aa222a2f.jpg\n"
     ]
    }
   ],
   "source": [
    "gt_df[sel_cols].tail(nvalid).to_csv(\n",
    "    \"C:/Users/Muyiwa/Desktop/c6project/prepare_data/valid_annots/valid.lst\",\n",
    "    sep=\"\\t\",\n",
    "    index=False,\n",
    "    header=False,\n",
    ")\n",
    "!head -n 5 \"C:/Users/Muyiwa/Desktop/c6project/prepare_data/valid_annots/valid.lst\""
   ]
  },
  {
   "cell_type": "code",
   "execution_count": 19,
   "id": "be15aa92",
   "metadata": {},
   "outputs": [],
   "source": [
    "!mkdir \"C:/Users/Muyiwa/Desktop/c6project/prepare_data/all_images_tmp\"\n",
    "for label in labels:\n",
    "    !cp  C:/Users/Muyiwa/Desktop/c6project/prepare_data/all_images/{label}/*  C:/Users/Muyiwa/Desktop/c6project/prepare_data/all_images_tmp/"
   ]
  },
  {
   "cell_type": "code",
   "execution_count": 20,
   "id": "09377ae3",
   "metadata": {},
   "outputs": [],
   "source": [
    "train_df = pd.read_csv(\n",
    "    \"C:/Users/Muyiwa/Desktop/c6project/prepare_data/train_annots/train.lst\",\n",
    "    sep=\"\\t\",\n",
    "    header=None,\n",
    ")\n",
    "images = list(train_df[2].values)\n",
    "for image in images:\n",
    "    shutil.copy(\n",
    "        \"C:/Users/Muyiwa/Desktop/c6project/prepare_data/all_images_tmp/\" + image,\n",
    "        \"C:/Users/Muyiwa/Desktop/c6project/prepare_data/train_imgs/\",\n",
    "    )"
   ]
  },
  {
   "cell_type": "code",
   "execution_count": 21,
   "id": "16ff9807",
   "metadata": {},
   "outputs": [],
   "source": [
    "valid_df = pd.read_csv(\n",
    "    \"C:/Users/Muyiwa/Desktop/c6project/prepare_data/valid_annots/valid.lst\", sep=\"\\t\", header=None\n",
    ")\n",
    "images = list(valid_df[2].values)\n",
    "for image in images:\n",
    "    shutil.copy(\n",
    "        \"C:/Users/Muyiwa/Desktop/c6project/prepare_data/all_images_tmp/\" + image,\n",
    "        \"C:/Users/Muyiwa/Desktop/c6project/prepare_data/valid_imgs/\",\n",
    "    )"
   ]
  },
  {
   "cell_type": "code",
   "execution_count": 22,
   "id": "e6909606",
   "metadata": {},
   "outputs": [],
   "source": [
    "!rm -r \"C:/Users/Muyiwa/Desktop/c6project/prepare_data/all_images_tmp\""
   ]
  },
  {
   "cell_type": "code",
   "execution_count": null,
   "id": "cdf3edd3",
   "metadata": {},
   "outputs": [],
   "source": []
  },
  {
   "cell_type": "code",
   "execution_count": null,
   "id": "cc3844f2",
   "metadata": {},
   "outputs": [],
   "source": []
  },
  {
   "cell_type": "code",
   "execution_count": null,
   "id": "7434f33a",
   "metadata": {},
   "outputs": [],
   "source": []
  },
  {
   "cell_type": "code",
   "execution_count": null,
   "id": "3a098913",
   "metadata": {},
   "outputs": [],
   "source": []
  },
  {
   "cell_type": "code",
   "execution_count": null,
   "id": "5c01064b",
   "metadata": {},
   "outputs": [
    {
     "data": {
      "application/javascript": "\n            setTimeout(function() {\n                var nbb_cell_id = 19;\n                var nbb_unformatted_code = \"# import ast\\n# labels = [\\\"apple\\\", \\\"orange\\\", \\\"banana\\\"]\\n# imgs = [str(random.randint(1000000, 9999999)) + \\\".jpg\\\" for i in range(100)]\\n# for img in imgs:\\n#     shutil.copy(\\\"images/rose.jpg\\\", \\\"prepare_date/img_clf_lst/all_images_gt/\\\" + img)\\n# clss = [random.sample(labels, 1) for i in range(100)]\\n# clss = [str(cl).replace(\\\"'\\\", \\\"\\\") for cl in clss]\\n# gt_df = pd.DataFrame({\\\"image\\\": imgs, \\\"class\\\": clss})\\n# gt_df.to_csv(\\\"prepare_date/img_clf_lst/all_images_gt/clf_labels.csv\\\", index=False)\\n# gt_df.head()\";\n                var nbb_formatted_code = \"# import ast\\n# labels = [\\\"apple\\\", \\\"orange\\\", \\\"banana\\\"]\\n# imgs = [str(random.randint(1000000, 9999999)) + \\\".jpg\\\" for i in range(100)]\\n# for img in imgs:\\n#     shutil.copy(\\\"images/rose.jpg\\\", \\\"prepare_date/img_clf_lst/all_images_gt/\\\" + img)\\n# clss = [random.sample(labels, 1) for i in range(100)]\\n# clss = [str(cl).replace(\\\"'\\\", \\\"\\\") for cl in clss]\\n# gt_df = pd.DataFrame({\\\"image\\\": imgs, \\\"class\\\": clss})\\n# gt_df.to_csv(\\\"prepare_date/img_clf_lst/all_images_gt/clf_labels.csv\\\", index=False)\\n# gt_df.head()\";\n                var nbb_cells = Jupyter.notebook.get_cells();\n                for (var i = 0; i < nbb_cells.length; ++i) {\n                    if (nbb_cells[i].input_prompt_number == nbb_cell_id) {\n                        if (nbb_cells[i].get_text() == nbb_unformatted_code) {\n                             nbb_cells[i].set_text(nbb_formatted_code);\n                        }\n                        break;\n                    }\n                }\n            }, 500);\n            ",
      "text/plain": [
       "<IPython.core.display.Javascript object>"
      ]
     },
     "metadata": {},
     "output_type": "display_data"
    }
   ],
   "source": []
  },
  {
   "cell_type": "code",
   "execution_count": null,
   "id": "acb8f9ce",
   "metadata": {},
   "outputs": [
    {
     "data": {
      "application/javascript": "\n            setTimeout(function() {\n                var nbb_cell_id = 20;\n                var nbb_unformatted_code = \"# !head clf_labels.csv\\n# !head /Users/sridharkannam/Desktop/makesense_images/classfication/labels_my-project-name_2023-03-25-02-26-43.csv\";\n                var nbb_formatted_code = \"# !head clf_labels.csv\\n# !head /Users/sridharkannam/Desktop/makesense_images/classfication/labels_my-project-name_2023-03-25-02-26-43.csv\";\n                var nbb_cells = Jupyter.notebook.get_cells();\n                for (var i = 0; i < nbb_cells.length; ++i) {\n                    if (nbb_cells[i].input_prompt_number == nbb_cell_id) {\n                        if (nbb_cells[i].get_text() == nbb_unformatted_code) {\n                             nbb_cells[i].set_text(nbb_formatted_code);\n                        }\n                        break;\n                    }\n                }\n            }, 500);\n            ",
      "text/plain": [
       "<IPython.core.display.Javascript object>"
      ]
     },
     "metadata": {},
     "output_type": "display_data"
    }
   ],
   "source": []
  }
 ],
 "metadata": {
  "kernelspec": {
   "display_name": "Python 3 (ipykernel)",
   "language": "python",
   "name": "python3"
  },
  "language_info": {
   "codemirror_mode": {
    "name": "ipython",
    "version": 3
   },
   "file_extension": ".py",
   "mimetype": "text/x-python",
   "name": "python",
   "nbconvert_exporter": "python",
   "pygments_lexer": "ipython3",
   "version": "3.11.5"
  },
  "toc": {
   "base_numbering": 1,
   "nav_menu": {},
   "number_sections": true,
   "sideBar": true,
   "skip_h1_title": false,
   "title_cell": "Table of Contents",
   "title_sidebar": "Contents",
   "toc_cell": false,
   "toc_position": {},
   "toc_section_display": true,
   "toc_window_display": false
  }
 },
 "nbformat": 4,
 "nbformat_minor": 5
}
